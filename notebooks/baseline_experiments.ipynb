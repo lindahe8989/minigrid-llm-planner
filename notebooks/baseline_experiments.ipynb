{
 "cells": [
  {
   "cell_type": "code",
   "execution_count": 29,
   "metadata": {},
   "outputs": [],
   "source": [
    "import pandas as pd\n",
    "import glob\n",
    "import os\n",
    "import numpy as np\n",
    "import matplotlib.pyplot as plt\n",
    "import seaborn as sns"
   ]
  },
  {
   "cell_type": "code",
   "execution_count": 30,
   "metadata": {},
   "outputs": [],
   "source": [
    "# Get parent directory (project root)\n",
    "project_root = os.path.dirname(os.getcwd())\n",
    "results_dir = os.path.join(project_root, \"results/baseline_experiments_20241127_150533\")\n",
    "\n",
    "def load_environment_results(base_path):\n",
    "    \"\"\"Load results from all episodes in an environment directory.\"\"\"\n",
    "    all_results = []\n",
    "    episode_dirs = sorted(glob.glob(os.path.join(base_path, \"episode_*\")))\n",
    "    \n",
    "    for episode_dir in episode_dirs:\n",
    "        results_file = os.path.join(episode_dir, \"results.csv\")\n",
    "        if os.path.exists(results_file):\n",
    "            df = pd.read_csv(results_file)\n",
    "            episode_num = int(os.path.basename(episode_dir).split('_')[1])\n",
    "            df['Episode_Number'] = episode_num\n",
    "            all_results.append(df)\n",
    "    \n",
    "    if all_results:\n",
    "        return pd.concat(all_results, ignore_index=True)\n",
    "    return pd.DataFrame()"
   ]
  },
  {
   "cell_type": "code",
   "execution_count": 31,
   "metadata": {},
   "outputs": [],
   "source": [
    "\n",
    "# Load results for both environments\n",
    "standard_env_results = load_environment_results(os.path.join(results_dir, \"MiniGrid-Empty-8x8-v0\"))\n",
    "random_env_results = load_environment_results(os.path.join(results_dir, \"random_goal_empty\"))\n",
    "\n",
    "def create_summary_stats(df, env_name):\n",
    "    # Convert string 'True'/'False' to boolean if needed\n",
    "    success_values = df['Success'].map({'True': True, 'False': False}) if df['Success'].dtype == object else df['Success']\n",
    "    \n",
    "    stats = {\n",
    "        'Environment': env_name,\n",
    "        'Success Rate (\\\\%)': (success_values.mean() * 100),\n",
    "        'Average Steps': df['Steps'].mean(),\n",
    "        'Std Steps': df['Steps'].std(),\n",
    "        'Min Steps': df['Steps'].min(),\n",
    "        'Max Steps': df['Steps'].max(),\n",
    "        'Trials': len(df)\n",
    "    }\n",
    "    return pd.Series(stats)\n",
    "\n",
    "# Create summary DataFrame\n",
    "summary_df = pd.DataFrame([\n",
    "    create_summary_stats(standard_env_results, 'Standard Empty'),\n",
    "    create_summary_stats(random_env_results, 'Random Goal Empty')\n",
    "])"
   ]
  },
  {
   "cell_type": "code",
   "execution_count": 35,
   "metadata": {},
   "outputs": [],
   "source": [
    "# Create visualization\n",
    "plt.figure(figsize=(12, 6))\n",
    "\n",
    "# Steps Distribution Plot\n",
    "plt.subplot(1, 2, 1)\n",
    "plt.boxplot([\n",
    "    standard_env_results['Steps'],\n",
    "    random_env_results['Steps']\n",
    "], labels=['Standard\\nEmpty', 'Random\\nGoal'])\n",
    "plt.title('Steps Distribution')\n",
    "plt.ylabel('Number of Steps')\n",
    "plt.grid(True, alpha=0.3)\n",
    "\n",
    "# Add individual points with jitter\n",
    "for i, data in enumerate([standard_env_results['Steps'], random_env_results['Steps']], 1):\n",
    "    x_jitter = np.random.normal(i, 0.04, size=len(data))\n",
    "    plt.scatter(x_jitter, data, alpha=0.4, color=['blue', 'orange'][i-1])\n",
    "\n",
    "# Success rate bar plot\n",
    "plt.subplot(1, 2, 2)\n",
    "\n",
    "# Calculate success rates (handling string 'True'/'False' values)\n",
    "success_rates = [\n",
    "    (standard_env_results['Success'] == True).mean() * 100,  # Using boolean comparison\n",
    "    (random_env_results['Success'] == True).mean() * 100\n",
    "]\n",
    "\n",
    "plt.bar(['Standard\\nEmpty', 'Random\\nGoal'], success_rates)\n",
    "plt.title('Success Rate')\n",
    "plt.ylabel('Success Rate (%)')\n",
    "plt.ylim(0, 100)\n",
    "\n",
    "# Add value labels on top of bars\n",
    "for i, rate in enumerate(success_rates):\n",
    "    plt.text(i, rate + 1, f'{rate:.1f}%', ha='center')\n",
    "\n",
    "plt.tight_layout()\n",
    "plt.savefig('baseline_results_summary.png', dpi=300, bbox_inches='tight')\n",
    "plt.close()"
   ]
  },
  {
   "cell_type": "code",
   "execution_count": 36,
   "metadata": {},
   "outputs": [
    {
     "name": "stdout",
     "output_type": "stream",
     "text": [
      "\n",
      "Summary Statistics:\n",
      "         Environment  Success Rate (\\%)  Average Steps  Std Steps  Min Steps  \\\n",
      "0     Standard Empty               80.0           42.0       6.07         34   \n",
      "1  Random Goal Empty               70.0           33.6      13.93         14   \n",
      "\n",
      "   Max Steps  Trials  \n",
      "0         50      10  \n",
      "1         50      10  \n"
     ]
    }
   ],
   "source": [
    "# Print summary statistics\n",
    "print(\"\\nSummary Statistics:\")\n",
    "print(summary_df.round(2))\n"
   ]
  },
  {
   "cell_type": "code",
   "execution_count": 33,
   "metadata": {},
   "outputs": [
    {
     "name": "stdout",
     "output_type": "stream",
     "text": [
      "\n",
      "LaTeX Table:\n",
      "\\begin{tabular}{l|r|r|r|r|r|r}\n",
      "\\toprule\n",
      "Environment & Success Rate (\\%) & Average Steps & Std Steps & Min Steps & Max Steps & Trials \\\\\n",
      "\\midrule\n",
      "Standard Empty & 80.00 & 42.00 & 6.07 & 34 & 50 & 10 \\\\\n",
      "Random Goal Empty & 70.00 & 33.60 & 13.93 & 14 & 50 & 10 \\\\\n",
      "\\bottomrule\n",
      "\\end{tabular}\n",
      "\n"
     ]
    }
   ],
   "source": [
    "#  Function to format numbers in the DataFrame\n",
    "def format_float(x):\n",
    "    if isinstance(x, float):\n",
    "        return f\"{x:.2f}\"\n",
    "    return x\n",
    "\n",
    "# Create a copy of the DataFrame for formatting\n",
    "formatted_df = summary_df.copy()\n",
    "# Apply formatting to all numeric columns except 'Trials' which should be integer\n",
    "numeric_cols = formatted_df.select_dtypes(include=['float64']).columns\n",
    "for col in numeric_cols:\n",
    "    if col != 'Trials':  # Skip the Trials column as it should remain integer\n",
    "        formatted_df[col] = formatted_df[col].apply(format_float)\n",
    "\n",
    "# Generate LaTeX table with formatted numbers\n",
    "latex_table = formatted_df.to_latex(\n",
    "    index=False,\n",
    "    escape=False,\n",
    "    column_format='l|r|r|r|r|r|r'\n",
    ")\n",
    "\n",
    "print(\"\\nLaTeX Table:\")\n",
    "print(latex_table)"
   ]
  },
  {
   "cell_type": "code",
   "execution_count": 34,
   "metadata": {},
   "outputs": [
    {
     "name": "stdout",
     "output_type": "stream",
     "text": [
      "Standard Environment Success values:\n",
      "[ True False]\n",
      "Type: bool\n",
      "\n",
      "Random Environment Success values:\n",
      "[ True False]\n",
      "Type: bool\n",
      "\n",
      "Detailed Success Analysis:\n",
      "Standard Empty Environment:\n",
      "Success Rate: 80.0%\n",
      "Average Steps (successful episodes): 40.0\n",
      "Std Dev Steps (successful episodes): 5.0\n",
      "\n",
      "Random Goal Empty Environment:\n",
      "Success Rate: 70.0%\n",
      "Average Steps (successful episodes): 26.6\n",
      "Std Dev Steps (successful episodes): 9.9\n",
      "\n",
      "First few rows of Standard Environment:\n",
      "   Success  Steps\n",
      "0     True     38\n",
      "1     True     49\n",
      "2     True     45\n",
      "3     True     37\n",
      "4    False     50\n",
      "\n",
      "First few rows of Random Environment:\n",
      "   Success  Steps\n",
      "0     True     21\n",
      "1     True     33\n",
      "2     True     40\n",
      "3     True     36\n",
      "4     True     25\n"
     ]
    }
   ],
   "source": [
    "# First, let's inspect the data\n",
    "print(\"Standard Environment Success values:\")\n",
    "print(standard_env_results['Success'].unique())\n",
    "print(\"Type:\", standard_env_results['Success'].dtype)\n",
    "\n",
    "print(\"\\nRandom Environment Success values:\")\n",
    "print(random_env_results['Success'].unique())\n",
    "print(\"Type:\", random_env_results['Success'].dtype)\n",
    "\n",
    "# Now let's modify our analysis\n",
    "successful_standard = standard_env_results[standard_env_results['Success'] == True]  # Try boolean True\n",
    "successful_random = random_env_results[random_env_results['Success'] == True]  # Try boolean True\n",
    "\n",
    "print(\"\\nDetailed Success Analysis:\")\n",
    "print(f\"Standard Empty Environment:\")\n",
    "print(f\"Success Rate: {len(successful_standard)/len(standard_env_results)*100:.1f}%\")\n",
    "print(f\"Average Steps (successful episodes): {successful_standard['Steps'].mean():.1f}\")\n",
    "print(f\"Std Dev Steps (successful episodes): {successful_standard['Steps'].std():.1f}\")\n",
    "\n",
    "print(f\"\\nRandom Goal Empty Environment:\")\n",
    "print(f\"Success Rate: {len(successful_random)/len(random_env_results)*100:.1f}%\")\n",
    "print(f\"Average Steps (successful episodes): {successful_random['Steps'].mean():.1f}\")\n",
    "print(f\"Std Dev Steps (successful episodes): {successful_random['Steps'].std():.1f}\")\n",
    "\n",
    "# If that doesn't work, let's try printing the first few rows of each DataFrame\n",
    "print(\"\\nFirst few rows of Standard Environment:\")\n",
    "print(standard_env_results[['Success', 'Steps']].head())\n",
    "print(\"\\nFirst few rows of Random Environment:\")\n",
    "print(random_env_results[['Success', 'Steps']].head())"
   ]
  },
  {
   "cell_type": "code",
   "execution_count": null,
   "metadata": {},
   "outputs": [],
   "source": []
  },
  {
   "cell_type": "code",
   "execution_count": null,
   "metadata": {},
   "outputs": [],
   "source": []
  }
 ],
 "metadata": {
  "kernelspec": {
   "display_name": "Python 3",
   "language": "python",
   "name": "python3"
  },
  "language_info": {
   "codemirror_mode": {
    "name": "ipython",
    "version": 3
   },
   "file_extension": ".py",
   "mimetype": "text/x-python",
   "name": "python",
   "nbconvert_exporter": "python",
   "pygments_lexer": "ipython3",
   "version": "3.11.5"
  }
 },
 "nbformat": 4,
 "nbformat_minor": 2
}
